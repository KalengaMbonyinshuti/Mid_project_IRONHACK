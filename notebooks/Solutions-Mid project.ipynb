{
 "cells": [
  {
   "cell_type": "code",
   "execution_count": 1,
   "id": "e105c587",
   "metadata": {},
   "outputs": [],
   "source": [
    "import pandas as pd\n",
    "import numpy as np"
   ]
  },
  {
   "cell_type": "code",
   "execution_count": 2,
   "id": "ee53c14f",
   "metadata": {},
   "outputs": [
    {
     "name": "stdout",
     "output_type": "stream",
     "text": [
      " Volume in drive C has no label.\n",
      " Volume Serial Number is E618-2B6B\n",
      "\n",
      " Directory of C:\\Users\\Elohome\\IRONHACK\\Week_5\\Mid_bootcamp_project\\Mid_project_IRONHACK\\notebooks\n",
      "\n",
      "06/02/2023  18:46    <DIR>          .\n",
      "06/02/2023  17:28    <DIR>          ..\n",
      "06/02/2023  18:25    <DIR>          .ipynb_checkpoints\n",
      "14/12/2022  03:11         1,372,752 creditcardmarketing.csv\n",
      "06/02/2023  18:46            42,210 Solutions-Mid project.ipynb\n",
      "               2 File(s)      1,414,962 bytes\n",
      "               3 Dir(s)   4,643,880,960 bytes free\n"
     ]
    }
   ],
   "source": [
    "!dir"
   ]
  },
  {
   "cell_type": "code",
   "execution_count": 3,
   "id": "b2bbbacf",
   "metadata": {},
   "outputs": [
    {
     "data": {
      "text/html": [
       "<div>\n",
       "<style scoped>\n",
       "    .dataframe tbody tr th:only-of-type {\n",
       "        vertical-align: middle;\n",
       "    }\n",
       "\n",
       "    .dataframe tbody tr th {\n",
       "        vertical-align: top;\n",
       "    }\n",
       "\n",
       "    .dataframe thead th {\n",
       "        text-align: right;\n",
       "    }\n",
       "</style>\n",
       "<table border=\"1\" class=\"dataframe\">\n",
       "  <thead>\n",
       "    <tr style=\"text-align: right;\">\n",
       "      <th></th>\n",
       "      <th>Customer Number</th>\n",
       "      <th>Offer Accepted</th>\n",
       "      <th>Reward</th>\n",
       "      <th>Mailer Type</th>\n",
       "      <th>Income Level</th>\n",
       "      <th># Bank Accounts Open</th>\n",
       "      <th>Overdraft Protection</th>\n",
       "      <th>Credit Rating</th>\n",
       "      <th># Credit Cards Held</th>\n",
       "      <th># Homes Owned</th>\n",
       "      <th>Household Size</th>\n",
       "      <th>Own Your Home</th>\n",
       "      <th>Average Balance</th>\n",
       "      <th>Q1 Balance</th>\n",
       "      <th>Q2 Balance</th>\n",
       "      <th>Q3 Balance</th>\n",
       "      <th>Q4 Balance</th>\n",
       "    </tr>\n",
       "  </thead>\n",
       "  <tbody>\n",
       "    <tr>\n",
       "      <th>0</th>\n",
       "      <td>1</td>\n",
       "      <td>No</td>\n",
       "      <td>Air Miles</td>\n",
       "      <td>Letter</td>\n",
       "      <td>High</td>\n",
       "      <td>1</td>\n",
       "      <td>No</td>\n",
       "      <td>High</td>\n",
       "      <td>2</td>\n",
       "      <td>1</td>\n",
       "      <td>4</td>\n",
       "      <td>No</td>\n",
       "      <td>1160.75</td>\n",
       "      <td>1669.0</td>\n",
       "      <td>877.0</td>\n",
       "      <td>1095.0</td>\n",
       "      <td>1002.0</td>\n",
       "    </tr>\n",
       "    <tr>\n",
       "      <th>1</th>\n",
       "      <td>2</td>\n",
       "      <td>No</td>\n",
       "      <td>Air Miles</td>\n",
       "      <td>Letter</td>\n",
       "      <td>Medium</td>\n",
       "      <td>1</td>\n",
       "      <td>No</td>\n",
       "      <td>Medium</td>\n",
       "      <td>2</td>\n",
       "      <td>2</td>\n",
       "      <td>5</td>\n",
       "      <td>Yes</td>\n",
       "      <td>147.25</td>\n",
       "      <td>39.0</td>\n",
       "      <td>106.0</td>\n",
       "      <td>78.0</td>\n",
       "      <td>366.0</td>\n",
       "    </tr>\n",
       "    <tr>\n",
       "      <th>2</th>\n",
       "      <td>3</td>\n",
       "      <td>No</td>\n",
       "      <td>Air Miles</td>\n",
       "      <td>Postcard</td>\n",
       "      <td>High</td>\n",
       "      <td>2</td>\n",
       "      <td>No</td>\n",
       "      <td>Medium</td>\n",
       "      <td>2</td>\n",
       "      <td>1</td>\n",
       "      <td>2</td>\n",
       "      <td>Yes</td>\n",
       "      <td>276.50</td>\n",
       "      <td>367.0</td>\n",
       "      <td>352.0</td>\n",
       "      <td>145.0</td>\n",
       "      <td>242.0</td>\n",
       "    </tr>\n",
       "    <tr>\n",
       "      <th>3</th>\n",
       "      <td>4</td>\n",
       "      <td>No</td>\n",
       "      <td>Air Miles</td>\n",
       "      <td>Letter</td>\n",
       "      <td>Medium</td>\n",
       "      <td>2</td>\n",
       "      <td>No</td>\n",
       "      <td>High</td>\n",
       "      <td>1</td>\n",
       "      <td>1</td>\n",
       "      <td>4</td>\n",
       "      <td>No</td>\n",
       "      <td>1219.00</td>\n",
       "      <td>1578.0</td>\n",
       "      <td>1760.0</td>\n",
       "      <td>1119.0</td>\n",
       "      <td>419.0</td>\n",
       "    </tr>\n",
       "    <tr>\n",
       "      <th>4</th>\n",
       "      <td>5</td>\n",
       "      <td>No</td>\n",
       "      <td>Air Miles</td>\n",
       "      <td>Letter</td>\n",
       "      <td>Medium</td>\n",
       "      <td>1</td>\n",
       "      <td>No</td>\n",
       "      <td>Medium</td>\n",
       "      <td>2</td>\n",
       "      <td>1</td>\n",
       "      <td>6</td>\n",
       "      <td>Yes</td>\n",
       "      <td>1211.00</td>\n",
       "      <td>2140.0</td>\n",
       "      <td>1357.0</td>\n",
       "      <td>982.0</td>\n",
       "      <td>365.0</td>\n",
       "    </tr>\n",
       "    <tr>\n",
       "      <th>...</th>\n",
       "      <td>...</td>\n",
       "      <td>...</td>\n",
       "      <td>...</td>\n",
       "      <td>...</td>\n",
       "      <td>...</td>\n",
       "      <td>...</td>\n",
       "      <td>...</td>\n",
       "      <td>...</td>\n",
       "      <td>...</td>\n",
       "      <td>...</td>\n",
       "      <td>...</td>\n",
       "      <td>...</td>\n",
       "      <td>...</td>\n",
       "      <td>...</td>\n",
       "      <td>...</td>\n",
       "      <td>...</td>\n",
       "      <td>...</td>\n",
       "    </tr>\n",
       "    <tr>\n",
       "      <th>17995</th>\n",
       "      <td>17996</td>\n",
       "      <td>No</td>\n",
       "      <td>Cash Back</td>\n",
       "      <td>Letter</td>\n",
       "      <td>High</td>\n",
       "      <td>1</td>\n",
       "      <td>No</td>\n",
       "      <td>Low</td>\n",
       "      <td>1</td>\n",
       "      <td>1</td>\n",
       "      <td>5</td>\n",
       "      <td>Yes</td>\n",
       "      <td>167.50</td>\n",
       "      <td>136.0</td>\n",
       "      <td>65.0</td>\n",
       "      <td>71.0</td>\n",
       "      <td>398.0</td>\n",
       "    </tr>\n",
       "    <tr>\n",
       "      <th>17996</th>\n",
       "      <td>17997</td>\n",
       "      <td>No</td>\n",
       "      <td>Cash Back</td>\n",
       "      <td>Letter</td>\n",
       "      <td>High</td>\n",
       "      <td>1</td>\n",
       "      <td>No</td>\n",
       "      <td>Low</td>\n",
       "      <td>3</td>\n",
       "      <td>1</td>\n",
       "      <td>3</td>\n",
       "      <td>Yes</td>\n",
       "      <td>850.50</td>\n",
       "      <td>984.0</td>\n",
       "      <td>940.0</td>\n",
       "      <td>943.0</td>\n",
       "      <td>535.0</td>\n",
       "    </tr>\n",
       "    <tr>\n",
       "      <th>17997</th>\n",
       "      <td>17998</td>\n",
       "      <td>No</td>\n",
       "      <td>Cash Back</td>\n",
       "      <td>Letter</td>\n",
       "      <td>High</td>\n",
       "      <td>1</td>\n",
       "      <td>No</td>\n",
       "      <td>Low</td>\n",
       "      <td>2</td>\n",
       "      <td>1</td>\n",
       "      <td>4</td>\n",
       "      <td>No</td>\n",
       "      <td>1087.25</td>\n",
       "      <td>918.0</td>\n",
       "      <td>767.0</td>\n",
       "      <td>1170.0</td>\n",
       "      <td>1494.0</td>\n",
       "    </tr>\n",
       "    <tr>\n",
       "      <th>17998</th>\n",
       "      <td>17999</td>\n",
       "      <td>No</td>\n",
       "      <td>Cash Back</td>\n",
       "      <td>Letter</td>\n",
       "      <td>Medium</td>\n",
       "      <td>1</td>\n",
       "      <td>No</td>\n",
       "      <td>Medium</td>\n",
       "      <td>4</td>\n",
       "      <td>2</td>\n",
       "      <td>2</td>\n",
       "      <td>Yes</td>\n",
       "      <td>1022.25</td>\n",
       "      <td>626.0</td>\n",
       "      <td>983.0</td>\n",
       "      <td>865.0</td>\n",
       "      <td>1615.0</td>\n",
       "    </tr>\n",
       "    <tr>\n",
       "      <th>17999</th>\n",
       "      <td>18000</td>\n",
       "      <td>No</td>\n",
       "      <td>Cash Back</td>\n",
       "      <td>Letter</td>\n",
       "      <td>Low</td>\n",
       "      <td>2</td>\n",
       "      <td>No</td>\n",
       "      <td>Medium</td>\n",
       "      <td>2</td>\n",
       "      <td>1</td>\n",
       "      <td>3</td>\n",
       "      <td>No</td>\n",
       "      <td>1056.00</td>\n",
       "      <td>265.0</td>\n",
       "      <td>1378.0</td>\n",
       "      <td>1978.0</td>\n",
       "      <td>603.0</td>\n",
       "    </tr>\n",
       "  </tbody>\n",
       "</table>\n",
       "<p>18000 rows × 17 columns</p>\n",
       "</div>"
      ],
      "text/plain": [
       "       Customer Number Offer Accepted     Reward Mailer Type Income Level  \\\n",
       "0                    1             No  Air Miles      Letter         High   \n",
       "1                    2             No  Air Miles      Letter       Medium   \n",
       "2                    3             No  Air Miles    Postcard         High   \n",
       "3                    4             No  Air Miles      Letter       Medium   \n",
       "4                    5             No  Air Miles      Letter       Medium   \n",
       "...                ...            ...        ...         ...          ...   \n",
       "17995            17996             No  Cash Back      Letter         High   \n",
       "17996            17997             No  Cash Back      Letter         High   \n",
       "17997            17998             No  Cash Back      Letter         High   \n",
       "17998            17999             No  Cash Back      Letter       Medium   \n",
       "17999            18000             No  Cash Back      Letter          Low   \n",
       "\n",
       "       # Bank Accounts Open Overdraft Protection Credit Rating  \\\n",
       "0                         1                   No          High   \n",
       "1                         1                   No        Medium   \n",
       "2                         2                   No        Medium   \n",
       "3                         2                   No          High   \n",
       "4                         1                   No        Medium   \n",
       "...                     ...                  ...           ...   \n",
       "17995                     1                   No           Low   \n",
       "17996                     1                   No           Low   \n",
       "17997                     1                   No           Low   \n",
       "17998                     1                   No        Medium   \n",
       "17999                     2                   No        Medium   \n",
       "\n",
       "       # Credit Cards Held  # Homes Owned  Household Size Own Your Home  \\\n",
       "0                        2              1               4            No   \n",
       "1                        2              2               5           Yes   \n",
       "2                        2              1               2           Yes   \n",
       "3                        1              1               4            No   \n",
       "4                        2              1               6           Yes   \n",
       "...                    ...            ...             ...           ...   \n",
       "17995                    1              1               5           Yes   \n",
       "17996                    3              1               3           Yes   \n",
       "17997                    2              1               4            No   \n",
       "17998                    4              2               2           Yes   \n",
       "17999                    2              1               3            No   \n",
       "\n",
       "       Average Balance  Q1 Balance  Q2 Balance  Q3 Balance  Q4 Balance  \n",
       "0              1160.75      1669.0       877.0      1095.0      1002.0  \n",
       "1               147.25        39.0       106.0        78.0       366.0  \n",
       "2               276.50       367.0       352.0       145.0       242.0  \n",
       "3              1219.00      1578.0      1760.0      1119.0       419.0  \n",
       "4              1211.00      2140.0      1357.0       982.0       365.0  \n",
       "...                ...         ...         ...         ...         ...  \n",
       "17995           167.50       136.0        65.0        71.0       398.0  \n",
       "17996           850.50       984.0       940.0       943.0       535.0  \n",
       "17997          1087.25       918.0       767.0      1170.0      1494.0  \n",
       "17998          1022.25       626.0       983.0       865.0      1615.0  \n",
       "17999          1056.00       265.0      1378.0      1978.0       603.0  \n",
       "\n",
       "[18000 rows x 17 columns]"
      ]
     },
     "execution_count": 3,
     "metadata": {},
     "output_type": "execute_result"
    }
   ],
   "source": [
    "data=pd.read_excel('../data/creditcardmarketing.xlsx')\n",
    "data"
   ]
  },
  {
   "cell_type": "markdown",
   "id": "4f216364",
   "metadata": {},
   "source": [
    "1. Question=drop the column `q4_balance` from the database Limit your returned results to 10."
   ]
  },
  {
   "cell_type": "code",
   "execution_count": 4,
   "id": "35023815",
   "metadata": {},
   "outputs": [
    {
     "data": {
      "text/html": [
       "<div>\n",
       "<style scoped>\n",
       "    .dataframe tbody tr th:only-of-type {\n",
       "        vertical-align: middle;\n",
       "    }\n",
       "\n",
       "    .dataframe tbody tr th {\n",
       "        vertical-align: top;\n",
       "    }\n",
       "\n",
       "    .dataframe thead th {\n",
       "        text-align: right;\n",
       "    }\n",
       "</style>\n",
       "<table border=\"1\" class=\"dataframe\">\n",
       "  <thead>\n",
       "    <tr style=\"text-align: right;\">\n",
       "      <th></th>\n",
       "      <th>Customer Number</th>\n",
       "      <th>Offer Accepted</th>\n",
       "      <th>Reward</th>\n",
       "      <th>Mailer Type</th>\n",
       "      <th>Income Level</th>\n",
       "      <th># Bank Accounts Open</th>\n",
       "      <th>Overdraft Protection</th>\n",
       "      <th>Credit Rating</th>\n",
       "      <th># Credit Cards Held</th>\n",
       "      <th># Homes Owned</th>\n",
       "      <th>Household Size</th>\n",
       "      <th>Own Your Home</th>\n",
       "      <th>Average Balance</th>\n",
       "      <th>Q1 Balance</th>\n",
       "      <th>Q2 Balance</th>\n",
       "      <th>Q3 Balance</th>\n",
       "    </tr>\n",
       "  </thead>\n",
       "  <tbody>\n",
       "    <tr>\n",
       "      <th>0</th>\n",
       "      <td>1</td>\n",
       "      <td>No</td>\n",
       "      <td>Air Miles</td>\n",
       "      <td>Letter</td>\n",
       "      <td>High</td>\n",
       "      <td>1</td>\n",
       "      <td>No</td>\n",
       "      <td>High</td>\n",
       "      <td>2</td>\n",
       "      <td>1</td>\n",
       "      <td>4</td>\n",
       "      <td>No</td>\n",
       "      <td>1160.75</td>\n",
       "      <td>1669.0</td>\n",
       "      <td>877.0</td>\n",
       "      <td>1095.0</td>\n",
       "    </tr>\n",
       "    <tr>\n",
       "      <th>1</th>\n",
       "      <td>2</td>\n",
       "      <td>No</td>\n",
       "      <td>Air Miles</td>\n",
       "      <td>Letter</td>\n",
       "      <td>Medium</td>\n",
       "      <td>1</td>\n",
       "      <td>No</td>\n",
       "      <td>Medium</td>\n",
       "      <td>2</td>\n",
       "      <td>2</td>\n",
       "      <td>5</td>\n",
       "      <td>Yes</td>\n",
       "      <td>147.25</td>\n",
       "      <td>39.0</td>\n",
       "      <td>106.0</td>\n",
       "      <td>78.0</td>\n",
       "    </tr>\n",
       "    <tr>\n",
       "      <th>2</th>\n",
       "      <td>3</td>\n",
       "      <td>No</td>\n",
       "      <td>Air Miles</td>\n",
       "      <td>Postcard</td>\n",
       "      <td>High</td>\n",
       "      <td>2</td>\n",
       "      <td>No</td>\n",
       "      <td>Medium</td>\n",
       "      <td>2</td>\n",
       "      <td>1</td>\n",
       "      <td>2</td>\n",
       "      <td>Yes</td>\n",
       "      <td>276.50</td>\n",
       "      <td>367.0</td>\n",
       "      <td>352.0</td>\n",
       "      <td>145.0</td>\n",
       "    </tr>\n",
       "    <tr>\n",
       "      <th>3</th>\n",
       "      <td>4</td>\n",
       "      <td>No</td>\n",
       "      <td>Air Miles</td>\n",
       "      <td>Letter</td>\n",
       "      <td>Medium</td>\n",
       "      <td>2</td>\n",
       "      <td>No</td>\n",
       "      <td>High</td>\n",
       "      <td>1</td>\n",
       "      <td>1</td>\n",
       "      <td>4</td>\n",
       "      <td>No</td>\n",
       "      <td>1219.00</td>\n",
       "      <td>1578.0</td>\n",
       "      <td>1760.0</td>\n",
       "      <td>1119.0</td>\n",
       "    </tr>\n",
       "    <tr>\n",
       "      <th>4</th>\n",
       "      <td>5</td>\n",
       "      <td>No</td>\n",
       "      <td>Air Miles</td>\n",
       "      <td>Letter</td>\n",
       "      <td>Medium</td>\n",
       "      <td>1</td>\n",
       "      <td>No</td>\n",
       "      <td>Medium</td>\n",
       "      <td>2</td>\n",
       "      <td>1</td>\n",
       "      <td>6</td>\n",
       "      <td>Yes</td>\n",
       "      <td>1211.00</td>\n",
       "      <td>2140.0</td>\n",
       "      <td>1357.0</td>\n",
       "      <td>982.0</td>\n",
       "    </tr>\n",
       "    <tr>\n",
       "      <th>...</th>\n",
       "      <td>...</td>\n",
       "      <td>...</td>\n",
       "      <td>...</td>\n",
       "      <td>...</td>\n",
       "      <td>...</td>\n",
       "      <td>...</td>\n",
       "      <td>...</td>\n",
       "      <td>...</td>\n",
       "      <td>...</td>\n",
       "      <td>...</td>\n",
       "      <td>...</td>\n",
       "      <td>...</td>\n",
       "      <td>...</td>\n",
       "      <td>...</td>\n",
       "      <td>...</td>\n",
       "      <td>...</td>\n",
       "    </tr>\n",
       "    <tr>\n",
       "      <th>17995</th>\n",
       "      <td>17996</td>\n",
       "      <td>No</td>\n",
       "      <td>Cash Back</td>\n",
       "      <td>Letter</td>\n",
       "      <td>High</td>\n",
       "      <td>1</td>\n",
       "      <td>No</td>\n",
       "      <td>Low</td>\n",
       "      <td>1</td>\n",
       "      <td>1</td>\n",
       "      <td>5</td>\n",
       "      <td>Yes</td>\n",
       "      <td>167.50</td>\n",
       "      <td>136.0</td>\n",
       "      <td>65.0</td>\n",
       "      <td>71.0</td>\n",
       "    </tr>\n",
       "    <tr>\n",
       "      <th>17996</th>\n",
       "      <td>17997</td>\n",
       "      <td>No</td>\n",
       "      <td>Cash Back</td>\n",
       "      <td>Letter</td>\n",
       "      <td>High</td>\n",
       "      <td>1</td>\n",
       "      <td>No</td>\n",
       "      <td>Low</td>\n",
       "      <td>3</td>\n",
       "      <td>1</td>\n",
       "      <td>3</td>\n",
       "      <td>Yes</td>\n",
       "      <td>850.50</td>\n",
       "      <td>984.0</td>\n",
       "      <td>940.0</td>\n",
       "      <td>943.0</td>\n",
       "    </tr>\n",
       "    <tr>\n",
       "      <th>17997</th>\n",
       "      <td>17998</td>\n",
       "      <td>No</td>\n",
       "      <td>Cash Back</td>\n",
       "      <td>Letter</td>\n",
       "      <td>High</td>\n",
       "      <td>1</td>\n",
       "      <td>No</td>\n",
       "      <td>Low</td>\n",
       "      <td>2</td>\n",
       "      <td>1</td>\n",
       "      <td>4</td>\n",
       "      <td>No</td>\n",
       "      <td>1087.25</td>\n",
       "      <td>918.0</td>\n",
       "      <td>767.0</td>\n",
       "      <td>1170.0</td>\n",
       "    </tr>\n",
       "    <tr>\n",
       "      <th>17998</th>\n",
       "      <td>17999</td>\n",
       "      <td>No</td>\n",
       "      <td>Cash Back</td>\n",
       "      <td>Letter</td>\n",
       "      <td>Medium</td>\n",
       "      <td>1</td>\n",
       "      <td>No</td>\n",
       "      <td>Medium</td>\n",
       "      <td>4</td>\n",
       "      <td>2</td>\n",
       "      <td>2</td>\n",
       "      <td>Yes</td>\n",
       "      <td>1022.25</td>\n",
       "      <td>626.0</td>\n",
       "      <td>983.0</td>\n",
       "      <td>865.0</td>\n",
       "    </tr>\n",
       "    <tr>\n",
       "      <th>17999</th>\n",
       "      <td>18000</td>\n",
       "      <td>No</td>\n",
       "      <td>Cash Back</td>\n",
       "      <td>Letter</td>\n",
       "      <td>Low</td>\n",
       "      <td>2</td>\n",
       "      <td>No</td>\n",
       "      <td>Medium</td>\n",
       "      <td>2</td>\n",
       "      <td>1</td>\n",
       "      <td>3</td>\n",
       "      <td>No</td>\n",
       "      <td>1056.00</td>\n",
       "      <td>265.0</td>\n",
       "      <td>1378.0</td>\n",
       "      <td>1978.0</td>\n",
       "    </tr>\n",
       "  </tbody>\n",
       "</table>\n",
       "<p>18000 rows × 16 columns</p>\n",
       "</div>"
      ],
      "text/plain": [
       "       Customer Number Offer Accepted     Reward Mailer Type Income Level  \\\n",
       "0                    1             No  Air Miles      Letter         High   \n",
       "1                    2             No  Air Miles      Letter       Medium   \n",
       "2                    3             No  Air Miles    Postcard         High   \n",
       "3                    4             No  Air Miles      Letter       Medium   \n",
       "4                    5             No  Air Miles      Letter       Medium   \n",
       "...                ...            ...        ...         ...          ...   \n",
       "17995            17996             No  Cash Back      Letter         High   \n",
       "17996            17997             No  Cash Back      Letter         High   \n",
       "17997            17998             No  Cash Back      Letter         High   \n",
       "17998            17999             No  Cash Back      Letter       Medium   \n",
       "17999            18000             No  Cash Back      Letter          Low   \n",
       "\n",
       "       # Bank Accounts Open Overdraft Protection Credit Rating  \\\n",
       "0                         1                   No          High   \n",
       "1                         1                   No        Medium   \n",
       "2                         2                   No        Medium   \n",
       "3                         2                   No          High   \n",
       "4                         1                   No        Medium   \n",
       "...                     ...                  ...           ...   \n",
       "17995                     1                   No           Low   \n",
       "17996                     1                   No           Low   \n",
       "17997                     1                   No           Low   \n",
       "17998                     1                   No        Medium   \n",
       "17999                     2                   No        Medium   \n",
       "\n",
       "       # Credit Cards Held  # Homes Owned  Household Size Own Your Home  \\\n",
       "0                        2              1               4            No   \n",
       "1                        2              2               5           Yes   \n",
       "2                        2              1               2           Yes   \n",
       "3                        1              1               4            No   \n",
       "4                        2              1               6           Yes   \n",
       "...                    ...            ...             ...           ...   \n",
       "17995                    1              1               5           Yes   \n",
       "17996                    3              1               3           Yes   \n",
       "17997                    2              1               4            No   \n",
       "17998                    4              2               2           Yes   \n",
       "17999                    2              1               3            No   \n",
       "\n",
       "       Average Balance  Q1 Balance  Q2 Balance  Q3 Balance  \n",
       "0              1160.75      1669.0       877.0      1095.0  \n",
       "1               147.25        39.0       106.0        78.0  \n",
       "2               276.50       367.0       352.0       145.0  \n",
       "3              1219.00      1578.0      1760.0      1119.0  \n",
       "4              1211.00      2140.0      1357.0       982.0  \n",
       "...                ...         ...         ...         ...  \n",
       "17995           167.50       136.0        65.0        71.0  \n",
       "17996           850.50       984.0       940.0       943.0  \n",
       "17997          1087.25       918.0       767.0      1170.0  \n",
       "17998          1022.25       626.0       983.0       865.0  \n",
       "17999          1056.00       265.0      1378.0      1978.0  \n",
       "\n",
       "[18000 rows x 16 columns]"
      ]
     },
     "execution_count": 4,
     "metadata": {},
     "output_type": "execute_result"
    }
   ],
   "source": [
    "data.drop(columns='Q4 Balance', inplace=True)\n",
    "data"
   ]
  },
  {
   "cell_type": "markdown",
   "id": "6b081eb0",
   "metadata": {},
   "source": [
    "2.how many rows of data you have(shape)"
   ]
  },
  {
   "cell_type": "code",
   "execution_count": 5,
   "id": "be2fa0a9",
   "metadata": {},
   "outputs": [
    {
     "data": {
      "text/plain": [
       "(18000, 16)"
      ]
     },
     "execution_count": 5,
     "metadata": {},
     "output_type": "execute_result"
    }
   ],
   "source": [
    "data.shape"
   ]
  },
  {
   "cell_type": "markdown",
   "id": "5e656761",
   "metadata": {},
   "source": [
    "3. Now we will try to find the unique values in some of the categorical columns:\n",
    "\n",
    "    - What are the unique values in the column `Offer_accepted`?\n",
    "    - What are the unique values in the column `Reward`?\n",
    "    - What are the unique values in the column `mailer_type`?\n",
    "    - What are the unique values in the column `credit_cards_held`?\n",
    "    - What are the unique values in the column `household_size`?"
   ]
  },
  {
   "cell_type": "code",
   "execution_count": 6,
   "id": "27535226",
   "metadata": {},
   "outputs": [
    {
     "data": {
      "text/plain": [
       "Index(['Customer Number', 'Offer Accepted', 'Reward', 'Mailer Type',\n",
       "       'Income Level', '# Bank Accounts Open', 'Overdraft Protection',\n",
       "       'Credit Rating', '# Credit Cards Held', '# Homes Owned',\n",
       "       'Household Size', 'Own Your Home', 'Average Balance', 'Q1 Balance',\n",
       "       'Q2 Balance', 'Q3 Balance'],\n",
       "      dtype='object')"
      ]
     },
     "execution_count": 6,
     "metadata": {},
     "output_type": "execute_result"
    }
   ],
   "source": [
    "data.columns"
   ]
  },
  {
   "cell_type": "code",
   "execution_count": 7,
   "id": "ab270ebc",
   "metadata": {},
   "outputs": [
    {
     "data": {
      "text/plain": [
       "array(['No', 'Yes'], dtype=object)"
      ]
     },
     "execution_count": 7,
     "metadata": {},
     "output_type": "execute_result"
    }
   ],
   "source": [
    "data['Offer Accepted'].unique()"
   ]
  },
  {
   "cell_type": "code",
   "execution_count": 8,
   "id": "92c83790",
   "metadata": {},
   "outputs": [
    {
     "data": {
      "text/plain": [
       "array(['Air Miles', 'Cash Back', 'Points'], dtype=object)"
      ]
     },
     "execution_count": 8,
     "metadata": {},
     "output_type": "execute_result"
    }
   ],
   "source": [
    "data['Reward'].unique()"
   ]
  },
  {
   "cell_type": "code",
   "execution_count": 9,
   "id": "3ba80794",
   "metadata": {},
   "outputs": [
    {
     "data": {
      "text/plain": [
       "array(['Letter', 'Postcard'], dtype=object)"
      ]
     },
     "execution_count": 9,
     "metadata": {},
     "output_type": "execute_result"
    }
   ],
   "source": [
    "data['Mailer Type'].unique()  "
   ]
  },
  {
   "cell_type": "code",
   "execution_count": 10,
   "id": "6caefd8e",
   "metadata": {},
   "outputs": [
    {
     "data": {
      "text/plain": [
       "array([2, 1, 3, 4], dtype=int64)"
      ]
     },
     "execution_count": 10,
     "metadata": {},
     "output_type": "execute_result"
    }
   ],
   "source": [
    "data['# Credit Cards Held'].unique()  "
   ]
  },
  {
   "cell_type": "code",
   "execution_count": 11,
   "id": "ffb746cf",
   "metadata": {},
   "outputs": [
    {
     "data": {
      "text/plain": [
       "array([4, 5, 2, 6, 3, 1, 8, 9], dtype=int64)"
      ]
     },
     "execution_count": 11,
     "metadata": {},
     "output_type": "execute_result"
    }
   ],
   "source": [
    "data['Household Size'].unique()  "
   ]
  },
  {
   "cell_type": "markdown",
   "id": "007555c8",
   "metadata": {},
   "source": [
    "4. Arrange the data in a decreasing order by the `average_balance` of the house. Return only the `customer_number` of the top 10 customers with the highest `average_balances` in your data"
   ]
  },
  {
   "cell_type": "code",
   "execution_count": 12,
   "id": "320f2bfe",
   "metadata": {},
   "outputs": [
    {
     "data": {
      "text/html": [
       "<div>\n",
       "<style scoped>\n",
       "    .dataframe tbody tr th:only-of-type {\n",
       "        vertical-align: middle;\n",
       "    }\n",
       "\n",
       "    .dataframe tbody tr th {\n",
       "        vertical-align: top;\n",
       "    }\n",
       "\n",
       "    .dataframe thead th {\n",
       "        text-align: right;\n",
       "    }\n",
       "</style>\n",
       "<table border=\"1\" class=\"dataframe\">\n",
       "  <thead>\n",
       "    <tr style=\"text-align: right;\">\n",
       "      <th></th>\n",
       "      <th>Customer Number</th>\n",
       "      <th>Average Balance</th>\n",
       "    </tr>\n",
       "  </thead>\n",
       "  <tbody>\n",
       "    <tr>\n",
       "      <th>2296</th>\n",
       "      <td>2297</td>\n",
       "      <td>3366.25</td>\n",
       "    </tr>\n",
       "    <tr>\n",
       "      <th>12635</th>\n",
       "      <td>12636</td>\n",
       "      <td>2948.50</td>\n",
       "    </tr>\n",
       "    <tr>\n",
       "      <th>8887</th>\n",
       "      <td>8888</td>\n",
       "      <td>2738.50</td>\n",
       "    </tr>\n",
       "    <tr>\n",
       "      <th>10576</th>\n",
       "      <td>10577</td>\n",
       "      <td>2609.50</td>\n",
       "    </tr>\n",
       "    <tr>\n",
       "      <th>14003</th>\n",
       "      <td>14004</td>\n",
       "      <td>2437.50</td>\n",
       "    </tr>\n",
       "    <tr>\n",
       "      <th>10475</th>\n",
       "      <td>10476</td>\n",
       "      <td>2430.00</td>\n",
       "    </tr>\n",
       "    <tr>\n",
       "      <th>2655</th>\n",
       "      <td>2656</td>\n",
       "      <td>2336.75</td>\n",
       "    </tr>\n",
       "    <tr>\n",
       "      <th>15259</th>\n",
       "      <td>15260</td>\n",
       "      <td>2320.50</td>\n",
       "    </tr>\n",
       "    <tr>\n",
       "      <th>15608</th>\n",
       "      <td>15609</td>\n",
       "      <td>2271.50</td>\n",
       "    </tr>\n",
       "    <tr>\n",
       "      <th>8777</th>\n",
       "      <td>8778</td>\n",
       "      <td>2073.25</td>\n",
       "    </tr>\n",
       "  </tbody>\n",
       "</table>\n",
       "</div>"
      ],
      "text/plain": [
       "       Customer Number  Average Balance\n",
       "2296              2297          3366.25\n",
       "12635            12636          2948.50\n",
       "8887              8888          2738.50\n",
       "10576            10577          2609.50\n",
       "14003            14004          2437.50\n",
       "10475            10476          2430.00\n",
       "2655              2656          2336.75\n",
       "15259            15260          2320.50\n",
       "15608            15609          2271.50\n",
       "8777              8778          2073.25"
      ]
     },
     "execution_count": 12,
     "metadata": {},
     "output_type": "execute_result"
    }
   ],
   "source": [
    "average_sorted=data[['Customer Number','Average Balance']].sort_values(by='Average Balance', ascending=False)\n",
    "average_sorted.head(10)"
   ]
  },
  {
   "cell_type": "code",
   "execution_count": null,
   "id": "6eb68825",
   "metadata": {},
   "outputs": [],
   "source": []
  },
  {
   "cell_type": "markdown",
   "id": "c9f8c4dd",
   "metadata": {},
   "source": [
    "5. What is the average balance of all the customers in your data?"
   ]
  },
  {
   "cell_type": "code",
   "execution_count": 13,
   "id": "d2157f2a",
   "metadata": {},
   "outputs": [
    {
     "name": "stderr",
     "output_type": "stream",
     "text": [
      "C:\\Users\\Elohome\\AppData\\Local\\Temp\\ipykernel_20092\\531903386.py:1: FutureWarning: Dropping of nuisance columns in DataFrame reductions (with 'numeric_only=None') is deprecated; in a future version this will raise TypeError.  Select only valid columns before calling the reduction.\n",
      "  data.mean()\n"
     ]
    },
    {
     "data": {
      "text/plain": [
       "Customer Number         9000.500000\n",
       "# Bank Accounts Open       1.255778\n",
       "# Credit Cards Held        1.903500\n",
       "# Homes Owned              1.203444\n",
       "Household Size             3.499056\n",
       "Average Balance          940.515562\n",
       "Q1 Balance               910.450656\n",
       "Q2 Balance               999.392190\n",
       "Q3 Balance              1042.033600\n",
       "dtype: float64"
      ]
     },
     "execution_count": 13,
     "metadata": {},
     "output_type": "execute_result"
    }
   ],
   "source": [
    "data.mean()"
   ]
  },
  {
   "cell_type": "code",
   "execution_count": null,
   "id": "55045c2f",
   "metadata": {},
   "outputs": [],
   "source": []
  },
  {
   "cell_type": "markdown",
   "id": "756c5737",
   "metadata": {},
   "source": [
    "6. In this exercise we will use  `group by` to check the properties of some of the categorical variables in our data. Note wherever `average_balance` is asked in the questions below, please take the average of the column `average_balance`: "
   ]
  },
  {
   "cell_type": "markdown",
   "id": "d8227a21",
   "metadata": {},
   "source": [
    " - What is the average balance of the customers grouped by `Income Level`? The returned result should have only two columns, income level and `Average balance` of the customers. Use an alias to change the name of the second column.\n",
    "    - What is the average balance of the customers grouped by `number_of_bank_accounts_open`? The returned result should have only two columns, `number_of_bank_accounts_open` and `Average balance` of the customers. Use an alias to change the name of the second column.\n",
    "    - What is the average number of credit cards held by customers for each of the credit card ratings? The returned result should have only two columns, rating and average number of credit cards held. Use an alias to change the name of the second column.\n",
    "    - Is there any correlation between the columns `credit_cards_held` and `number_of_bank_accounts_open`? You can analyse this by grouping the data by one of the variables and then aggregating the results of the other column. Visually check if there is a positive correlation or negative correlation or no correlation between the variables.\n",
    "    You might also have to check the number of customers in each category (ie number of credit cards held) to assess if that category is well represented in the dataset to include it in your analysis. For eg. If the category is under-represented as compared to other categories, ignore that category in this analysis"
   ]
  },
  {
   "cell_type": "code",
   "execution_count": null,
   "id": "abd71828",
   "metadata": {},
   "outputs": [],
   "source": []
  },
  {
   "cell_type": "code",
   "execution_count": null,
   "id": "1f8b35cb",
   "metadata": {},
   "outputs": [],
   "source": []
  },
  {
   "cell_type": "code",
   "execution_count": null,
   "id": "b493ca1e",
   "metadata": {},
   "outputs": [],
   "source": []
  },
  {
   "cell_type": "markdown",
   "id": "069e0790",
   "metadata": {},
   "source": [
    "7. Your managers are only interested in the customers with the following properties:"
   ]
  },
  {
   "cell_type": "markdown",
   "id": "42c1ac15",
   "metadata": {},
   "source": [
    " - Credit rating medium or high\n",
    "    - Credit cards held 2 or less\n",
    "    - Owns their own home\n",
    "    - Household size 3 or more\n",
    "\n",
    "    For the rest of the things, they are not too concerned. Write a simple query to find what are the options available for them? Can you filter the customers who accepted the offers here?"
   ]
  },
  {
   "cell_type": "code",
   "execution_count": null,
   "id": "57725fb9",
   "metadata": {},
   "outputs": [],
   "source": []
  },
  {
   "cell_type": "markdown",
   "id": "d182bb8d",
   "metadata": {},
   "source": [
    "8. Your managers want to find out the list of customers whose average balance is less than the average balance of all the customers in the database. Write a query to show them the list of such customers. You might need to use a subquery for this problem."
   ]
  },
  {
   "cell_type": "code",
   "execution_count": null,
   "id": "437c31c7",
   "metadata": {},
   "outputs": [],
   "source": []
  },
  {
   "cell_type": "markdown",
   "id": "9d81d20c",
   "metadata": {},
   "source": []
  },
  {
   "cell_type": "markdown",
   "id": "8ee4d643",
   "metadata": {},
   "source": [
    "9. Since this is something that the senior management is regularly interested in, create a view called `Customers__Balance_View1` of the same query."
   ]
  },
  {
   "cell_type": "code",
   "execution_count": null,
   "id": "9c14b5b9",
   "metadata": {},
   "outputs": [],
   "source": []
  },
  {
   "cell_type": "markdown",
   "id": "3f47757e",
   "metadata": {},
   "source": [
    "10. What is the number of people who accepted the offer vs number of people who did not?"
   ]
  },
  {
   "cell_type": "code",
   "execution_count": null,
   "id": "6d285ead",
   "metadata": {},
   "outputs": [],
   "source": []
  },
  {
   "cell_type": "code",
   "execution_count": null,
   "id": "0e270d42",
   "metadata": {},
   "outputs": [],
   "source": []
  },
  {
   "cell_type": "markdown",
   "id": "c3ff1471",
   "metadata": {},
   "source": [
    "11. Your managers are more interested in customers with a credit rating of high or medium. What is the difference in average balances of the customers with high credit card rating and low credit card rating?"
   ]
  },
  {
   "cell_type": "code",
   "execution_count": null,
   "id": "1ef7ae4c",
   "metadata": {},
   "outputs": [],
   "source": []
  },
  {
   "cell_type": "code",
   "execution_count": null,
   "id": "90476cd7",
   "metadata": {},
   "outputs": [],
   "source": []
  },
  {
   "cell_type": "markdown",
   "id": "41987752",
   "metadata": {},
   "source": [
    "12. In the database, which all types of communication (`mailer_type`) were used and with how many customers?"
   ]
  },
  {
   "cell_type": "code",
   "execution_count": null,
   "id": "c3c7529b",
   "metadata": {},
   "outputs": [],
   "source": []
  },
  {
   "cell_type": "markdown",
   "id": "3363c918",
   "metadata": {},
   "source": []
  },
  {
   "cell_type": "code",
   "execution_count": null,
   "id": "101705ee",
   "metadata": {},
   "outputs": [],
   "source": []
  },
  {
   "cell_type": "markdown",
   "id": "13b83a35",
   "metadata": {},
   "source": [
    "13. Provide the details of the customer that is the 11th least `Q1_balance` in your database."
   ]
  },
  {
   "cell_type": "code",
   "execution_count": null,
   "id": "a0825489",
   "metadata": {},
   "outputs": [],
   "source": []
  },
  {
   "cell_type": "code",
   "execution_count": null,
   "id": "6bfe1f6d",
   "metadata": {},
   "outputs": [],
   "source": []
  },
  {
   "cell_type": "markdown",
   "id": "29b4f885",
   "metadata": {},
   "source": []
  },
  {
   "cell_type": "code",
   "execution_count": null,
   "id": "b4f94af2",
   "metadata": {},
   "outputs": [],
   "source": []
  },
  {
   "cell_type": "code",
   "execution_count": null,
   "id": "cd47090f",
   "metadata": {},
   "outputs": [],
   "source": []
  },
  {
   "cell_type": "markdown",
   "id": "17d121d0",
   "metadata": {},
   "source": []
  },
  {
   "cell_type": "code",
   "execution_count": null,
   "id": "33fa732a",
   "metadata": {},
   "outputs": [],
   "source": []
  }
 ],
 "metadata": {
  "kernelspec": {
   "display_name": "Python 3 (ipykernel)",
   "language": "python",
   "name": "python3"
  },
  "language_info": {
   "codemirror_mode": {
    "name": "ipython",
    "version": 3
   },
   "file_extension": ".py",
   "mimetype": "text/x-python",
   "name": "python",
   "nbconvert_exporter": "python",
   "pygments_lexer": "ipython3",
   "version": "3.9.12"
  }
 },
 "nbformat": 4,
 "nbformat_minor": 5
}
